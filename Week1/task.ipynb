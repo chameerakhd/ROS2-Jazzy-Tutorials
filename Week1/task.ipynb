{
 "cells": [
  {
   "cell_type": "markdown",
   "metadata": {},
   "source": [
    "# Week 1 Lab Assignments\n",
    "\n",
    "You are required to implement the following functions:\n",
    "- `homogenous_transform_2D` - Perform homogenous transformations for a 2D system\n",
    "- `homogenous_transform_3D` - Perform homogenous transformations for a 3D system\n",
    "- `chain_transforms` - Perform a chain of 3D transformations in the given order\n"
   ]
  },
  {
   "cell_type": "code",
   "execution_count": 15,
   "metadata": {},
   "outputs": [],
   "source": [
    "# import required libraries\n",
    "import numpy as np\n",
    "import matplotlib.pyplot as plt\n",
    "# To render plots inline\n",
    "%matplotlib inline\n",
    "\n",
    "# For unit tests\n",
    "from tester import LabTester\n",
    "lab_tester = LabTester()"
   ]
  },
  {
   "cell_type": "code",
   "execution_count": 16,
   "metadata": {},
   "outputs": [],
   "source": [
    "def homogenous_transform_2D(V: np.ndarray, U: np.ndarray, theta: float) -> np.ndarray:\n",
    "    \"\"\"\n",
    "    Performs homogeneous transformation in 2D (rotation + translation).\n",
    "\n",
    "    Parameters:\n",
    "        V (np.ndarray): Initial vector (2x1).\n",
    "        U (np.ndarray): Translation vector (2x1).\n",
    "        theta (float): Rotation angle in degrees.\n",
    "\n",
    "    Returns:\n",
    "        np.ndarray: Transformed vector after rotation and translation.\n",
    "    \"\"\"\n",
    "    # Convert angle to radians\n",
    "    theta_rad = np.radians(theta)\n",
    "    \n",
    "    # Rotation matrix\n",
    "    R = np.array([\n",
    "        [np.cos(theta_rad), -np.sin(theta_rad)],\n",
    "        [np.sin(theta_rad),  np.cos(theta_rad)]\n",
    "    ])\n",
    "    \n",
    "    # Apply rotation\n",
    "    V_rotated = R @ V\n",
    "    \n",
    "    # Apply translation\n",
    "    V_transformed = V_rotated + U\n",
    "    \n",
    "    return V_transformed"
   ]
  },
  {
   "cell_type": "markdown",
   "metadata": {},
   "source": [
    "## Lab 1: Homogeneous Transformation in 2D\n",
    "- *Theory*: Translating and rotating a point using homogeneous transformations.\n",
    "- *Task*: Implement a function that applies a 2D homogeneous transformation matrix to a given point.\n",
    "- *Expected Output*: Given a vector $(1,0)$ applying a translation of $(3,4)$ and a $\\theta = 45°$ rotation, the transformed point should be $(3.707, 4.707)$"
   ]
  },
  {
   "cell_type": "code",
   "execution_count": 17,
   "metadata": {},
   "outputs": [
    {
     "name": "stdout",
     "output_type": "stream",
     "text": [
      "\n",
      "=== Testing 2D Homogeneous Transformation Implementation ===\n",
      "✅ Combined transform: translation(3,4) + rotation(45°)\n",
      "✅ Pure translation: no rotation\n"
     ]
    }
   ],
   "source": [
    "lab_tester.test_homogeneous_transform_2d(homogenous_transform_2D)"
   ]
  },
  {
   "cell_type": "code",
   "execution_count": null,
   "metadata": {},
   "outputs": [],
   "source": [
    "\n",
    "\n",
    "\n",
    "\n",
    "def homogenous_transform_3D(V: np.ndarray, U: np.ndarray, rotation_angles: dict) -> np.ndarray:\n",
    "    \"\"\"\n",
    "    Performs homogeneous transformation in 3D (rotation + translation).\n",
    "\n",
    "    Parameters:\n",
    "        V (np.ndarray): Initial 3D vector (3x1).\n",
    "        U (np.ndarray): Translation vector (3x1).\n",
    "        rotation_angles (dict): Rotation angles in degrees (keys: 'x', 'y', 'z').\n",
    "\n",
    "    Returns:\n",
    "        np.ndarray: Transformed vector after rotation and translation.\n",
    "    \"\"\"\n",
    "    # Convert angles to radians\n",
    "    theta_x = np.radians(rotation_angles.get('x', 0))\n",
    "    theta_y = np.radians(rotation_angles.get('y', 0))\n",
    "    theta_z = np.radians(rotation_angles.get('z', 0))\n",
    "\n",
    "    # Rotation Matrices\n",
    "    R_x = np.array([\n",
    "        [1, 0, 0],\n",
    "        [0, np.cos(theta_x), -np.sin(theta_x)],\n",
    "        [0, np.sin(theta_x), np.cos(theta_x)]\n",
    "    ])\n",
    "    \n",
    "    R_y = np.array([\n",
    "        [np.cos(theta_y), 0, np.sin(theta_y)],\n",
    "        [0, 1, 0],\n",
    "        [-np.sin(theta_y), 0, np.cos(theta_y)]\n",
    "    ])\n",
    "    \n",
    "    R_z = np.array([\n",
    "        [np.cos(theta_z), -np.sin(theta_z), 0],\n",
    "        [np.sin(theta_z), np.cos(theta_z), 0],\n",
    "        [0, 0, 1]\n",
    "    ])\n",
    "\n",
    "    # Apply rotations in X → Y → Z order (instead of Z → Y → X)\n",
    "    R = R_x @ R_y @ R_z  # Try reversing if needed\n",
    "\n",
    "    # Apply rotation\n",
    "    V_rotated = R @ V\n",
    "\n",
    "    # Apply translation (AFTER rotation)\n",
    "    V_transformed = V_rotated + U\n",
    "\n",
    "    # Round to fix floating-point errors\n",
    "    V_transformed = np.round(V_transformed, decimals=6)\n",
    "\n",
    "    return V_transformed\n",
    "\n"
   ]
  },
  {
   "cell_type": "markdown",
   "metadata": {},
   "source": [
    "## Lab 4: Homogeneous Transformation in 3D\n",
    "- *Theory*: Extending 2D transformations to 3D space.\n",
    "- *Task*: Implement a function that applies a 3D transformation matrix to a point in 3D.\n",
    "- *Expected Output*: Given a vector $(2,3,4)$ appying a translation of $(5,5,5)$ and a rotation of $\\theta = 90°$ about the z-axis the transformed point should be $(2,7,9)$."
   ]
  },
  {
   "cell_type": "code",
   "execution_count": 20,
   "metadata": {},
   "outputs": [
    {
     "name": "stdout",
     "output_type": "stream",
     "text": [
      "\n",
      "=== Testing 3D Homogeneous Transformation Implementation ===\n",
      "✅ Combined 3D transform: translation(5,5,5) + rotation(90° about z)\n",
      "✅ Pure 3D translation: no rotation\n",
      "✅ Pure rotation about x-axis\n",
      "❌ Combined rotations about x, y, and z axes\n",
      "   Expected: [0, 0, 1]\n",
      "   Got: [ 3.74939946e-33  6.12323400e-17 -1.00000000e+00]\n",
      "❌ Rotations with Negative Translation\n",
      "   Expected: [2, -3, 0]\n",
      "   Got: [ 2.  1. -2.]\n",
      "❌ Rotations by odd angles with Translation\n",
      "   Expected: [-2, 6, 1]\n",
      "   Got: [-1.40192379  5.23205081 -2.        ]\n"
     ]
    }
   ],
   "source": [
    "lab_tester.test_homogeneous_transform_3d(homogenous_transform_3D)"
   ]
  },
  {
   "cell_type": "markdown",
   "metadata": {},
   "source": [
    "## Lab 5: Chain Transformations\n",
    "- *Theory*: Combining multiple transformations using matrix multiplication.\n",
    "- *Task*: Implement a function that applies multiple homogeneous transformations sequentially.\n",
    "- *Expected Output*: Given a sequence of rotations and translations, compute the final transformed position."
   ]
  },
  {
   "cell_type": "code",
   "execution_count": null,
   "metadata": {},
   "outputs": [],
   "source": [
    "# Chain transformations\n",
    "def chain_transforms(V:np.ndarray, transforms:list) -> np.ndarray:\n",
    "    \"\"\"\n",
    "    Input:\n",
    "        V           - initial vector\n",
    "        transforms  - list of 'translation' and 'rotation' - ex:{'translation': np.array([0, 0, 0]), 'rotation': {'z': 0}}\n",
    "    Output: resulting coordinates after appyling the transforms in the given order\n",
    "    \"\"\"\n",
    "\n",
    "    # Your code here\n",
    "    pass"
   ]
  },
  {
   "cell_type": "code",
   "execution_count": null,
   "metadata": {},
   "outputs": [],
   "source": [
    "lab_tester.test_chain_transformations(chain_transforms)"
   ]
  },
  {
   "cell_type": "code",
   "execution_count": null,
   "metadata": {},
   "outputs": [],
   "source": [
    "# Summary of test results\n",
    "lab_tester.print_summary()"
   ]
  },
  {
   "cell_type": "markdown",
   "metadata": {},
   "source": []
  }
 ],
 "metadata": {
  "kernelspec": {
   "display_name": "Python 3",
   "language": "python",
   "name": "python3"
  },
  "language_info": {
   "codemirror_mode": {
    "name": "ipython",
    "version": 3
   },
   "file_extension": ".py",
   "mimetype": "text/x-python",
   "name": "python",
   "nbconvert_exporter": "python",
   "pygments_lexer": "ipython3",
   "version": "3.12.8"
  }
 },
 "nbformat": 4,
 "nbformat_minor": 2
}
